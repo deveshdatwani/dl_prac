{
 "cells": [
  {
   "cell_type": "code",
   "execution_count": 1,
   "id": "7ce8af2e",
   "metadata": {},
   "outputs": [],
   "source": [
    "# import dataset\n",
    "\n",
    "import pandas as pd\n",
    "url = 'https://raw.githubusercontent.com/jbrownlee/Datasets/master/haberman.csv'\n",
    "data = pd.read_csv(url, header=None)"
   ]
  },
  {
   "cell_type": "code",
   "execution_count": 2,
   "id": "6bce0a4c",
   "metadata": {},
   "outputs": [
    {
     "data": {
      "text/plain": [
       "(306, 4)"
      ]
     },
     "execution_count": 2,
     "metadata": {},
     "output_type": "execute_result"
    }
   ],
   "source": [
    "# printing data shape\n",
    "\n",
    "data.shape"
   ]
  },
  {
   "cell_type": "code",
   "execution_count": 3,
   "id": "ef9fc841",
   "metadata": {},
   "outputs": [
    {
     "name": "stdout",
     "output_type": "stream",
     "text": [
      "                0           1           2           3\n",
      "count  306.000000  306.000000  306.000000  306.000000\n",
      "mean    52.457516   62.852941    4.026144    1.264706\n",
      "std     10.803452    3.249405    7.189654    0.441899\n",
      "min     30.000000   58.000000    0.000000    1.000000\n",
      "25%     44.000000   60.000000    0.000000    1.000000\n",
      "50%     52.000000   63.000000    1.000000    1.000000\n",
      "75%     60.750000   65.750000    4.000000    2.000000\n",
      "max     83.000000   69.000000   52.000000    2.000000\n"
     ]
    },
    {
     "data": {
      "image/png": "[encoded data removed]",
      "text/plain": [
       "<Figure size 432x288 with 4 Axes>"
      ]
     },
     "metadata": {
      "needs_background": "light"
     },
     "output_type": "display_data"
    }
   ],
   "source": [
    "# understanding the data\n",
    "\n",
    "from matplotlib import pyplot as plt\n",
    "print(data.describe())\n",
    "data.hist()\n",
    "plt.show()"
   ]
  },
  {
   "cell_type": "code",
   "execution_count": 4,
   "id": "0a0d2cf2",
   "metadata": {},
   "outputs": [],
   "source": [
    "# data preprocessing\n",
    "\n",
    "from sklearn.preprocessing import LabelEncoder\n",
    "X = data[[0,1,2]]\n",
    "y = data[3]\n",
    "X = X.astype('float64')\n",
    "y = y.astype('float64')\n",
    "y = LabelEncoder().fit_transform(y)"
   ]
  },
  {
   "cell_type": "code",
   "execution_count": 5,
   "id": "3d510fce",
   "metadata": {},
   "outputs": [],
   "source": [
    "# train test split\n",
    "\n",
    "from sklearn.model_selection import train_test_split\n",
    "X_train, X_test, y_train, y_test = train_test_split(X, y, test_size=0.3)"
   ]
  },
  {
   "cell_type": "code",
   "execution_count": 6,
   "id": "ce9f1ce8",
   "metadata": {},
   "outputs": [
    {
     "name": "stdout",
     "output_type": "stream",
     "text": [
      "Model: \"sequential\"\n",
      "_________________________________________________________________\n",
      " Layer (type)                Output Shape              Param #   \n",
      "=================================================================\n",
      " dense (Dense)               (None, 12)                48        \n",
      "                                                                 \n",
      " dropout (Dropout)           (None, 12)                0         \n",
      "                                                                 \n",
      " dense_1 (Dense)             (None, 2)                 26        \n",
      "                                                                 \n",
      "=================================================================\n",
      "Total params: 74\n",
      "Trainable params: 74\n",
      "Non-trainable params: 0\n",
      "_________________________________________________________________\n"
     ]
    }
   ],
   "source": [
    "# building the model\n",
    "\n",
    "from tensorflow.keras import Sequential\n",
    "from tensorflow.keras.layers import Dense, Dropout, Normalization\n",
    "\n",
    "model = Sequential()\n",
    "model.add(Dense(12, input_shape=(3,), activation=\"relu\", kernel_initializer='he_normal'))\n",
    "model.add(Dropout(0.2))\n",
    "model.add(Dense(2, activation=\"softmax\"))\n",
    "model.compile(optimizer='sgd', loss='sparse_categorical_crossentropy', metrics='accuracy')\n",
    "model.summary()"
   ]
  },
  {
   "cell_type": "code",
   "execution_count": 7,
   "id": "5ad49585",
   "metadata": {
    "scrolled": true
   },
   "outputs": [
    {
     "name": "stdout",
     "output_type": "stream",
     "text": [
      "Epoch 1/25\n",
      "7/7 [==============================] - 0s 25ms/step - loss: 53.1520 - accuracy: 0.6355 - val_loss: 12.3710 - val_accuracy: 0.7391\n",
      "Epoch 2/25\n",
      "7/7 [==============================] - 0s 6ms/step - loss: 7.9400 - accuracy: 0.6168 - val_loss: 0.6811 - val_accuracy: 0.7391\n",
      "Epoch 3/25\n",
      "7/7 [==============================] - 0s 6ms/step - loss: 0.9903 - accuracy: 0.6168 - val_loss: 0.6646 - val_accuracy: 0.7391\n",
      "Epoch 4/25\n",
      "7/7 [==============================] - 0s 6ms/step - loss: 0.8221 - accuracy: 0.7336 - val_loss: 0.6041 - val_accuracy: 0.7391\n",
      "Epoch 5/25\n",
      "7/7 [==============================] - 0s 6ms/step - loss: 0.7780 - accuracy: 0.7056 - val_loss: 0.6839 - val_accuracy: 0.6304\n",
      "Epoch 6/25\n",
      "7/7 [==============================] - 0s 6ms/step - loss: 0.7148 - accuracy: 0.7103 - val_loss: 0.5998 - val_accuracy: 0.7391\n",
      "Epoch 7/25\n",
      "7/7 [==============================] - 0s 5ms/step - loss: 0.6981 - accuracy: 0.7056 - val_loss: 0.8495 - val_accuracy: 0.3478\n",
      "Epoch 8/25\n",
      "7/7 [==============================] - 0s 6ms/step - loss: 0.7191 - accuracy: 0.6682 - val_loss: 0.6609 - val_accuracy: 0.7391\n",
      "Epoch 9/25\n",
      "7/7 [==============================] - 0s 5ms/step - loss: 0.6220 - accuracy: 0.7336 - val_loss: 0.5940 - val_accuracy: 0.7391\n",
      "Epoch 10/25\n",
      "7/7 [==============================] - 0s 6ms/step - loss: 0.5956 - accuracy: 0.7336 - val_loss: 0.6326 - val_accuracy: 0.7391\n",
      "Epoch 11/25\n",
      "7/7 [==============================] - 0s 6ms/step - loss: 0.5976 - accuracy: 0.7290 - val_loss: 0.6105 - val_accuracy: 0.7065\n",
      "Epoch 12/25\n",
      "7/7 [==============================] - 0s 5ms/step - loss: 0.5870 - accuracy: 0.7477 - val_loss: 0.6222 - val_accuracy: 0.7391\n",
      "Epoch 13/25\n",
      "7/7 [==============================] - 0s 6ms/step - loss: 0.5805 - accuracy: 0.7430 - val_loss: 0.5946 - val_accuracy: 0.7065\n",
      "Epoch 14/25\n",
      "7/7 [==============================] - 0s 6ms/step - loss: 0.5826 - accuracy: 0.7617 - val_loss: 0.6088 - val_accuracy: 0.6957\n",
      "Epoch 15/25\n",
      "7/7 [==============================] - 0s 6ms/step - loss: 0.5909 - accuracy: 0.7383 - val_loss: 0.6892 - val_accuracy: 0.7174\n",
      "Epoch 16/25\n",
      "7/7 [==============================] - 0s 7ms/step - loss: 0.5558 - accuracy: 0.7757 - val_loss: 0.6609 - val_accuracy: 0.7391\n",
      "Epoch 17/25\n",
      "7/7 [==============================] - 0s 6ms/step - loss: 0.5995 - accuracy: 0.7196 - val_loss: 0.6481 - val_accuracy: 0.7065\n",
      "Epoch 18/25\n",
      "7/7 [==============================] - 0s 5ms/step - loss: 0.5981 - accuracy: 0.7290 - val_loss: 0.5967 - val_accuracy: 0.6957\n",
      "Epoch 19/25\n",
      "7/7 [==============================] - 0s 6ms/step - loss: 0.6003 - accuracy: 0.7477 - val_loss: 0.5873 - val_accuracy: 0.7391\n",
      "Epoch 20/25\n",
      "7/7 [==============================] - 0s 6ms/step - loss: 0.5881 - accuracy: 0.7336 - val_loss: 0.6175 - val_accuracy: 0.6957\n",
      "Epoch 21/25\n",
      "7/7 [==============================] - 0s 6ms/step - loss: 0.5849 - accuracy: 0.7243 - val_loss: 0.6176 - val_accuracy: 0.7391\n",
      "Epoch 22/25\n",
      "7/7 [==============================] - 0s 5ms/step - loss: 0.6004 - accuracy: 0.7336 - val_loss: 0.6468 - val_accuracy: 0.6957\n",
      "Epoch 23/25\n",
      "7/7 [==============================] - 0s 6ms/step - loss: 0.6115 - accuracy: 0.7196 - val_loss: 0.6430 - val_accuracy: 0.6957\n",
      "Epoch 24/25\n",
      "7/7 [==============================] - 0s 6ms/step - loss: 0.5998 - accuracy: 0.7243 - val_loss: 0.6345 - val_accuracy: 0.7283\n",
      "Epoch 25/25\n",
      "7/7 [==============================] - 0s 5ms/step - loss: 0.5907 - accuracy: 0.7336 - val_loss: 0.6318 - val_accuracy: 0.7391\n"
     ]
    }
   ],
   "source": [
    "history = model.fit(X_train, y_train, epochs=25, batch_size=32, validation_data=(X_test, y_test))"
   ]
  },
  {
   "cell_type": "code",
   "execution_count": 9,
   "id": "26a529b5",
   "metadata": {},
   "outputs": [],
   "source": [
    "accuracy = history.history['loss']\n",
    "val_accuracy = history.history['val_loss']"
   ]
  },
  {
   "cell_type": "code",
   "execution_count": 10,
   "id": "05e756bd",
   "metadata": {},
   "outputs": [
    {
     "data": {
      "image/png": "[encoded data removed]",
      "text/plain": [
       "<Figure size 576x576 with 1 Axes>"
      ]
     },
     "metadata": {
      "needs_background": "light"
     },
     "output_type": "display_data"
    }
   ],
   "source": [
    "# visualizing the training\n",
    "\n",
    "from matplotlib import pyplot as plt\n",
    "\n",
    "plt.figure(figsize=(8,8))\n",
    "epochs = range(25)\n",
    "plt.plot(epochs, accuracy, label='training loss')\n",
    "plt.plot(epochs, val_accuracy, label='validation loss')\n",
    "plt.legend(loc='lower right')\n",
    "plt.title('train acc vs val acc')\n",
    "plt.show()"
   ]
  },
  {
   "cell_type": "code",
   "execution_count": null,
   "id": "9ab1f189",
   "metadata": {},
   "outputs": [],
   "source": []
  }
 ],
 "metadata": {
  "kernelspec": {
   "display_name": "Python 3",
   "language": "python",
   "name": "python3"
  },
  "language_info": {
   "codemirror_mode": {
    "name": "ipython",
    "version": 3
   },
   "file_extension": ".py",
   "mimetype": "text/x-python",
   "name": "python",
   "nbconvert_exporter": "python",
   "pygments_lexer": "ipython3",
   "version": "3.8.10"
  }
 },
 "nbformat": 4,
 "nbformat_minor": 5
}
