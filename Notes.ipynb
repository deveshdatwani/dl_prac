{
 "cells": [
  {
   "cell_type": "markdown",
   "id": "1075a83f",
   "metadata": {},
   "source": [
    "-- empty -- "
   ]
  },
  {
   "cell_type": "markdown",
   "id": "a90ca419",
   "metadata": {},
   "source": [
    "The difference in accuracy between training and validation accuracy is noticeable—a sign of overfitting.\n",
    "\n",
    "There are multiple ways to fight overfitting in the training process. Two of them are data augmentation and adding a dropout.\n",
    "\n",
    "Data Augmentation: Overfitting generally occurs when there are a small number of training examples. Data augmentation takes the approach of generating additional training data from your existing examples by augmenting them using random transformations that yield believable-looking images. This helps expose the model to more aspects of the data and generalize better.\n",
    "\n",
    "Dropout Regularization: When you apply dropout to a layer, it randomly drops out (by setting the activation to zero) a number of output units from the layer during the training process. Dropout takes a fractional number as its input value, in the form such as 0.1, 0.2, 0.4, etc. This means dropping out 10%, 20% or 40% of the output units randomly from the applied layer."
   ]
  },
  {
   "cell_type": "code",
   "execution_count": null,
   "id": "40718a8f",
   "metadata": {},
   "outputs": [],
   "source": []
  }
 ],
 "metadata": {
  "kernelspec": {
   "display_name": "Python 3",
   "language": "python",
   "name": "python3"
  },
  "language_info": {
   "codemirror_mode": {
    "name": "ipython",
    "version": 3
   },
   "file_extension": ".py",
   "mimetype": "text/x-python",
   "name": "python",
   "nbconvert_exporter": "python",
   "pygments_lexer": "ipython3",
   "version": "3.8.10"
  }
 },
 "nbformat": 4,
 "nbformat_minor": 5
}
