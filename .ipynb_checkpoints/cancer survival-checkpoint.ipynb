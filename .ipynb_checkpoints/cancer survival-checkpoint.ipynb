{
 "cells": [
  {
   "cell_type": "code",
   "execution_count": 1,
   "id": "7ce8af2e",
   "metadata": {},
   "outputs": [],
   "source": [
    "# import dataset\n",
    "\n",
    "import pandas as pd\n",
    "url = 'https://raw.githubusercontent.com/jbrownlee/Datasets/master/haberman.csv'\n",
    "data = pd.read_csv(url, header=None)"
   ]
  },
  {
   "cell_type": "code",
   "execution_count": 2,
   "id": "6bce0a4c",
   "metadata": {},
   "outputs": [
    {
     "data": {
      "text/plain": [
       "(306, 4)"
      ]
     },
     "execution_count": 2,
     "metadata": {},
     "output_type": "execute_result"
    }
   ],
   "source": [
    "# printing data shape\n",
    "\n",
    "data.shape"
   ]
  },
  {
   "cell_type": "code",
   "execution_count": 3,
   "id": "ef9fc841",
   "metadata": {},
   "outputs": [
    {
     "name": "stdout",
     "output_type": "stream",
     "text": [
      "                0           1           2           3\n",
      "count  306.000000  306.000000  306.000000  306.000000\n",
      "mean    52.457516   62.852941    4.026144    1.264706\n",
      "std     10.803452    3.249405    7.189654    0.441899\n",
      "min     30.000000   58.000000    0.000000    1.000000\n",
      "25%     44.000000   60.000000    0.000000    1.000000\n",
      "50%     52.000000   63.000000    1.000000    1.000000\n",
      "75%     60.750000   65.750000    4.000000    2.000000\n",
      "max     83.000000   69.000000   52.000000    2.000000\n"
     ]
    },
    {
     "data": {
      "image/png": "[encoded data removed]",
      "text/plain": [
       "<Figure size 432x288 with 4 Axes>"
      ]
     },
     "metadata": {
      "needs_background": "light"
     },
     "output_type": "display_data"
    }
   ],
   "source": [
    "# understanding the data\n",
    "\n",
    "from matplotlib import pyplot as plt\n",
    "print(data.describe())\n",
    "data.hist()\n",
    "plt.show()"
   ]
  },
  {
   "cell_type": "code",
   "execution_count": 4,
   "id": "0a0d2cf2",
   "metadata": {},
   "outputs": [],
   "source": [
    "# data preprocessing\n",
    "\n",
    "from sklearn.preprocessing import LabelEncoder\n",
    "X = data[[0,1,2]]\n",
    "y = data[3]\n",
    "X = X.astype('float64')\n",
    "y = y.astype('float64')\n",
    "y = LabelEncoder().fit_transform(y)"
   ]
  },
  {
   "cell_type": "code",
   "execution_count": 5,
   "id": "3d510fce",
   "metadata": {},
   "outputs": [],
   "source": [
    "# train test split\n",
    "\n",
    "from sklearn.model_selection import train_test_split\n",
    "X_train, X_test, y_train, y_test = train_test_split(X, y, test_size=0.3)"
   ]
  },
  {
   "cell_type": "code",
   "execution_count": 12,
   "id": "ce9f1ce8",
   "metadata": {},
   "outputs": [
    {
     "name": "stdout",
     "output_type": "stream",
     "text": [
      "Model: \"sequential_1\"\n",
      "_________________________________________________________________\n",
      " Layer (type)                Output Shape              Param #   \n",
      "=================================================================\n",
      " dense_2 (Dense)             (None, 12)                48        \n",
      "                                                                 \n",
      " dropout_1 (Dropout)         (None, 12)                0         \n",
      "                                                                 \n",
      " dense_3 (Dense)             (None, 2)                 26        \n",
      "                                                                 \n",
      "=================================================================\n",
      "Total params: 74\n",
      "Trainable params: 74\n",
      "Non-trainable params: 0\n",
      "_________________________________________________________________\n"
     ]
    }
   ],
   "source": [
    "# building the model\n",
    "\n",
    "from tensorflow.keras import Sequential\n",
    "from tensorflow.keras.layers import Dense, Dropout, Normalization\n",
    "\n",
    "model = Sequential()\n",
    "model.add(Dense(12, input_shape=(3,), activation=\"relu\", kernel_initializer='he_normal'))\n",
    "model.add(Dropout(0.2))\n",
    "model.add(Dense(2, activation=\"softmax\"))\n",
    "model.compile(optimizer='sgd', loss='sparse_categorical_crossentropy', metrics='accuracy')\n",
    "model.summary()"
   ]
  },
  {
   "cell_type": "code",
   "execution_count": 13,
   "id": "5ad49585",
   "metadata": {
    "scrolled": true
   },
   "outputs": [
    {
     "name": "stdout",
     "output_type": "stream",
     "text": [
      "Epoch 1/25\n",
      "7/7 [==============================] - 0s 25ms/step - loss: 74.4599 - accuracy: 0.5935 - val_loss: 1.0986 - val_accuracy: 0.5543\n",
      "Epoch 2/25\n",
      "7/7 [==============================] - 0s 6ms/step - loss: 6.2813 - accuracy: 0.6028 - val_loss: 0.5979 - val_accuracy: 0.7500\n",
      "Epoch 3/25\n",
      "7/7 [==============================] - 0s 6ms/step - loss: 0.6859 - accuracy: 0.6822 - val_loss: 0.9065 - val_accuracy: 0.5435\n",
      "Epoch 4/25\n",
      "7/7 [==============================] - 0s 6ms/step - loss: 0.6980 - accuracy: 0.6589 - val_loss: 0.5021 - val_accuracy: 0.7935\n",
      "Epoch 5/25\n",
      "7/7 [==============================] - 0s 6ms/step - loss: 0.6503 - accuracy: 0.7009 - val_loss: 0.5076 - val_accuracy: 0.7826\n",
      "Epoch 6/25\n",
      "7/7 [==============================] - 0s 6ms/step - loss: 0.6400 - accuracy: 0.7009 - val_loss: 0.6040 - val_accuracy: 0.7174\n",
      "Epoch 7/25\n",
      "7/7 [==============================] - 0s 7ms/step - loss: 0.5851 - accuracy: 0.7056 - val_loss: 0.5186 - val_accuracy: 0.8043\n",
      "Epoch 8/25\n",
      "7/7 [==============================] - 0s 6ms/step - loss: 0.6088 - accuracy: 0.6963 - val_loss: 0.5785 - val_accuracy: 0.7609\n",
      "Epoch 9/25\n",
      "7/7 [==============================] - 0s 6ms/step - loss: 0.5845 - accuracy: 0.7243 - val_loss: 0.5058 - val_accuracy: 0.8043\n",
      "Epoch 10/25\n",
      "7/7 [==============================] - 0s 6ms/step - loss: 0.6246 - accuracy: 0.6963 - val_loss: 0.5699 - val_accuracy: 0.7609\n",
      "Epoch 11/25\n",
      "7/7 [==============================] - 0s 6ms/step - loss: 0.5844 - accuracy: 0.7196 - val_loss: 0.5099 - val_accuracy: 0.8261\n",
      "Epoch 12/25\n",
      "7/7 [==============================] - 0s 5ms/step - loss: 0.6143 - accuracy: 0.7243 - val_loss: 0.4928 - val_accuracy: 0.8043\n",
      "Epoch 13/25\n",
      "7/7 [==============================] - 0s 5ms/step - loss: 0.5894 - accuracy: 0.6869 - val_loss: 0.5413 - val_accuracy: 0.7717\n",
      "Epoch 14/25\n",
      "7/7 [==============================] - 0s 5ms/step - loss: 0.5746 - accuracy: 0.7196 - val_loss: 0.5367 - val_accuracy: 0.7935\n",
      "Epoch 15/25\n",
      "7/7 [==============================] - 0s 5ms/step - loss: 0.5514 - accuracy: 0.7056 - val_loss: 0.5447 - val_accuracy: 0.7609\n",
      "Epoch 16/25\n",
      "7/7 [==============================] - 0s 7ms/step - loss: 0.6138 - accuracy: 0.6636 - val_loss: 0.5239 - val_accuracy: 0.8043\n",
      "Epoch 17/25\n",
      "7/7 [==============================] - 0s 6ms/step - loss: 0.6049 - accuracy: 0.7196 - val_loss: 0.5245 - val_accuracy: 0.8043\n",
      "Epoch 18/25\n",
      "7/7 [==============================] - 0s 6ms/step - loss: 0.5766 - accuracy: 0.7196 - val_loss: 0.5077 - val_accuracy: 0.8043\n",
      "Epoch 19/25\n",
      "7/7 [==============================] - 0s 6ms/step - loss: 0.5770 - accuracy: 0.7196 - val_loss: 0.5265 - val_accuracy: 0.8043\n",
      "Epoch 20/25\n",
      "7/7 [==============================] - 0s 7ms/step - loss: 0.5778 - accuracy: 0.7150 - val_loss: 0.5176 - val_accuracy: 0.8043\n",
      "Epoch 21/25\n",
      "7/7 [==============================] - 0s 7ms/step - loss: 0.5502 - accuracy: 0.7336 - val_loss: 0.5147 - val_accuracy: 0.7826\n",
      "Epoch 22/25\n",
      "7/7 [==============================] - 0s 7ms/step - loss: 0.5883 - accuracy: 0.7196 - val_loss: 0.5824 - val_accuracy: 0.7283\n",
      "Epoch 23/25\n",
      "7/7 [==============================] - 0s 7ms/step - loss: 0.5871 - accuracy: 0.7477 - val_loss: 0.5081 - val_accuracy: 0.8261\n",
      "Epoch 24/25\n",
      "7/7 [==============================] - 0s 6ms/step - loss: 0.5528 - accuracy: 0.7523 - val_loss: 0.5322 - val_accuracy: 0.7935\n",
      "Epoch 25/25\n",
      "7/7 [==============================] - 0s 6ms/step - loss: 0.5706 - accuracy: 0.7523 - val_loss: 0.5574 - val_accuracy: 0.7500\n"
     ]
    }
   ],
   "source": [
    "history = model.fit(X_train, y_train, epochs=25, batch_size=32, validation_data=(X_test, y_test))"
   ]
  },
  {
   "cell_type": "code",
   "execution_count": 14,
   "id": "26a529b5",
   "metadata": {},
   "outputs": [],
   "source": [
    "accuracy = history.history['accuracy']\n",
    "val_accuracy = history.history['val_accuracy']"
   ]
  },
  {
   "cell_type": "code",
   "execution_count": 15,
   "id": "05e756bd",
   "metadata": {},
   "outputs": [
    {
     "data": {
      "image/png": "[encoded data removed]",
      "text/plain": [
       "<Figure size 576x576 with 1 Axes>"
      ]
     },
     "metadata": {
      "needs_background": "light"
     },
     "output_type": "display_data"
    }
   ],
   "source": [
    "# visualizing the training\n",
    "\n",
    "from matplotlib import pyplot as plt\n",
    "\n",
    "plt.figure(figsize=(8,8))\n",
    "epochs = range(25)\n",
    "plt.plot(epochs, accuracy, label='training accuracy')\n",
    "plt.plot(epochs, val_accuracy, label='validation accuracy')\n",
    "plt.legend(loc='lower right')\n",
    "plt.title('train acc vs val acc')\n",
    "plt.show()"
   ]
  },
  {
   "cell_type": "code",
   "execution_count": 10,
   "id": "71885e90",
   "metadata": {},
   "outputs": [
    {
     "name": "stdout",
     "output_type": "stream",
     "text": [
      "225\n",
      "81\n"
     ]
    }
   ],
   "source": [
    "print(len(y[y==0]))\n",
    "print(len(y[y==1]))"
   ]
  },
  {
   "cell_type": "code",
   "execution_count": 11,
   "id": "7cc1d057",
   "metadata": {},
   "outputs": [
    {
     "data": {
      "text/plain": [
       "0.7317880794701986"
      ]
     },
     "execution_count": 11,
     "metadata": {},
     "output_type": "execute_result"
    }
   ],
   "source": [
    "221 / (221 + 81)"
   ]
  },
  {
   "cell_type": "code",
   "execution_count": null,
   "id": "9ab1f189",
   "metadata": {},
   "outputs": [],
   "source": []
  }
 ],
 "metadata": {
  "kernelspec": {
   "display_name": "Python 3",
   "language": "python",
   "name": "python3"
  },
  "language_info": {
   "codemirror_mode": {
    "name": "ipython",
    "version": 3
   },
   "file_extension": ".py",
   "mimetype": "text/x-python",
   "name": "python",
   "nbconvert_exporter": "python",
   "pygments_lexer": "ipython3",
   "version": "3.8.10"
  }
 },
 "nbformat": 4,
 "nbformat_minor": 5
}
